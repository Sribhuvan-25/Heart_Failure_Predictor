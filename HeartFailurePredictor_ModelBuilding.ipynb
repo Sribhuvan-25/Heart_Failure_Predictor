{
 "cells": [
  {
   "cell_type": "markdown",
   "id": "6defeed6",
   "metadata": {},
   "source": [
    "# Model Building"
   ]
  },
  {
   "cell_type": "code",
   "execution_count": 153,
   "id": "6591b740",
   "metadata": {},
   "outputs": [],
   "source": [
    "import pandas as pd\n",
    "import numpy as np\n",
    "import warnings\n",
    "warnings.filterwarnings('ignore')\n",
    "from sklearn.preprocessing import StandardScaler\n",
    "from sklearn.model_selection import train_test_split\n",
    "from sklearn.metrics import accuracy_score"
   ]
  },
  {
   "cell_type": "code",
   "execution_count": 26,
   "id": "94d42048",
   "metadata": {},
   "outputs": [],
   "source": [
    "from sklearn.linear_model import LogisticRegression\n",
    "from sklearn.tree import DecisionTreeClassifier\n",
    "from sklearn.neural_network import MLPClassifier\n",
    "from sklearn.ensemble import RandomForestClassifier\n",
    "from sklearn.ensemble import GradientBoostingClassifier\n",
    "from sklearn.svm import SVC\n",
    "from sklearn.naive_bayes import GaussianNB\n",
    "from sklearn.neighbors import KNeighborsClassifier"
   ]
  },
  {
   "cell_type": "code",
   "execution_count": 99,
   "id": "c7296e98",
   "metadata": {},
   "outputs": [],
   "source": [
    "from sklearn.model_selection import GridSearchCV, ShuffleSplit, cross_val_score\n",
    "from sklearn.metrics import classification_report"
   ]
  },
  {
   "cell_type": "code",
   "execution_count": 2,
   "id": "644cea1c",
   "metadata": {},
   "outputs": [],
   "source": [
    "# Balanced Dataset\n",
    "df = pd.read_csv(\"heart_failure_clinical_records_dataset_2.csv\")"
   ]
  },
  {
   "cell_type": "code",
   "execution_count": 19,
   "id": "78061deb",
   "metadata": {},
   "outputs": [],
   "source": [
    "# Unbalanced Datatset\n",
    "# df_1 = pd.read_csv(\"heart_failure_clinical_records_dataset.csv\")"
   ]
  },
  {
   "cell_type": "code",
   "execution_count": 49,
   "id": "0358aef2",
   "metadata": {},
   "outputs": [],
   "source": [
    "x = df.drop('DEATH_EVENT',axis='columns')\n",
    "y = df.DEATH_EVENT"
   ]
  },
  {
   "cell_type": "code",
   "execution_count": 50,
   "id": "6297fb66",
   "metadata": {},
   "outputs": [],
   "source": [
    "# x1 = df.drop('DEATH_EVENT',axis='columns')\n",
    "# y1 = df.DEATH_EVENT"
   ]
  },
  {
   "cell_type": "code",
   "execution_count": 88,
   "id": "259d63e7",
   "metadata": {},
   "outputs": [],
   "source": [
    "x_train,x_test,y_train,y_test = train_test_split(x,y,test_size=0.3)"
   ]
  },
  {
   "cell_type": "code",
   "execution_count": 89,
   "id": "95d0253d",
   "metadata": {},
   "outputs": [],
   "source": [
    "# x1_train,x1_test,y1_train,y1_test = train_test_split(x1,y1,test_size=0.3)"
   ]
  },
  {
   "cell_type": "code",
   "execution_count": 53,
   "id": "785cb666",
   "metadata": {},
   "outputs": [
    {
     "name": "stdout",
     "output_type": "stream",
     "text": [
      "<class 'pandas.core.frame.DataFrame'>\n",
      "RangeIndex: 406 entries, 0 to 405\n",
      "Data columns (total 13 columns):\n",
      " #   Column                    Non-Null Count  Dtype  \n",
      "---  ------                    --------------  -----  \n",
      " 0   age                       406 non-null    float64\n",
      " 1   anaemia                   406 non-null    int64  \n",
      " 2   creatinine_phosphokinase  406 non-null    int64  \n",
      " 3   diabetes                  406 non-null    int64  \n",
      " 4   ejection_fraction         406 non-null    int64  \n",
      " 5   high_blood_pressure       406 non-null    int64  \n",
      " 6   platelets                 406 non-null    float64\n",
      " 7   serum_creatinine          406 non-null    float64\n",
      " 8   serum_sodium              406 non-null    int64  \n",
      " 9   sex                       406 non-null    int64  \n",
      " 10  smoking                   406 non-null    int64  \n",
      " 11  time                      406 non-null    int64  \n",
      " 12  DEATH_EVENT               406 non-null    int64  \n",
      "dtypes: float64(3), int64(10)\n",
      "memory usage: 41.4 KB\n"
     ]
    }
   ],
   "source": [
    "df.info()"
   ]
  },
  {
   "cell_type": "code",
   "execution_count": 90,
   "id": "723cee46",
   "metadata": {},
   "outputs": [],
   "source": [
    "scaler = StandardScaler()\n",
    "x_train = scaler.fit_transform(x_train)\n",
    "x_test = scaler.fit_transform(x_test)\n",
    "\n",
    "x1_train = scaler.fit_transform(x1_train)\n",
    "x1_test = scaler.fit_transform(x1_test)\n"
   ]
  },
  {
   "cell_type": "markdown",
   "id": "24f4bdfa",
   "metadata": {},
   "source": [
    "### Logistic Regression"
   ]
  },
  {
   "cell_type": "code",
   "execution_count": 356,
   "id": "033588e5",
   "metadata": {},
   "outputs": [
    {
     "name": "stdout",
     "output_type": "stream",
     "text": [
      "Balanced dataset score:  0.8114754098360656\n",
      "Classification report of balanced dataset: \n",
      "               precision    recall  f1-score   support\n",
      "\n",
      "           0       0.86      0.77      0.82        66\n",
      "           1       0.76      0.86      0.81        56\n",
      "\n",
      "    accuracy                           0.81       122\n",
      "   macro avg       0.81      0.81      0.81       122\n",
      "weighted avg       0.82      0.81      0.81       122\n",
      " \n",
      "\n"
     ]
    }
   ],
   "source": [
    "lr = LogisticRegression()\n",
    "\n",
    "model = lr.fit(x_train,y_train)\n",
    "# model_1 = lr.fit(x1_train,y1_train)\n",
    "\n",
    "y_pred = model.predict(x_test)\n",
    "# y1_pred = model.predict(x1_test)\n",
    "\n",
    "print(\"Balanced dataset score: \",accuracy_score(y_pred,y_test))\n",
    "# print(\"Unbalanced dataset score: \",accuracy_score(y1_pred,y1_test),'\\n')\n",
    "print(\"Classification report of balanced dataset: \\n\",classification_report(y_test,y_pred),'\\n')\n",
    "# print(\"Classification report of unbalanced dataset: \\n\",classification_report(y1_test,y1_pred))"
   ]
  },
  {
   "cell_type": "code",
   "execution_count": 358,
   "id": "291611f2",
   "metadata": {},
   "outputs": [
    {
     "data": {
      "text/plain": [
       "0.8114754098360656"
      ]
     },
     "execution_count": 358,
     "metadata": {},
     "output_type": "execute_result"
    }
   ],
   "source": [
    "# Parameter Tuning\n",
    "lr = LogisticRegression(random_state=42)\n",
    "lr_tuned = lr.fit(x_train,y_train)\n",
    "y_pred = lr_tuned.predict(x_test)\n",
    "accuracy_score(y_test,y_pred)"
   ]
  },
  {
   "cell_type": "markdown",
   "id": "a3e119ab",
   "metadata": {},
   "source": [
    "### Decision Tree Classifier"
   ]
  },
  {
   "cell_type": "code",
   "execution_count": 114,
   "id": "54daaafb",
   "metadata": {},
   "outputs": [
    {
     "name": "stdout",
     "output_type": "stream",
     "text": [
      "Acuuracy Score:  0.7622950819672131\n"
     ]
    }
   ],
   "source": [
    "tree = DecisionTreeClassifier()\n",
    "tree_model = tree.fit(x_train,y_train)\n",
    "y_pred = tree_model.predict(x_test)\n",
    "print(\"Acuuracy Score: \",accuracy_score(y_test,y_pred))\n",
    "# print(\"Classification Report: \\n\", classification_report(y_pred,y_test))"
   ]
  },
  {
   "cell_type": "code",
   "execution_count": 360,
   "id": "097c0557",
   "metadata": {},
   "outputs": [
    {
     "name": "stdout",
     "output_type": "stream",
     "text": [
      "Fitting 10 folds for each of 432 candidates, totalling 4320 fits\n"
     ]
    },
    {
     "data": {
      "text/plain": [
       "{'max_depth': 7, 'min_samples_split': 3}"
      ]
     },
     "execution_count": 360,
     "metadata": {},
     "output_type": "execute_result"
    }
   ],
   "source": [
    "# Parameter Tuning\n",
    "tree_params = {\n",
    "    \"max_depth\":list(range(1,10)),\n",
    "    \"min_samples_split\":list(range(2,50))\n",
    "}\n",
    "tree_search_model = GridSearchCV(tree,tree_params,cv=10,n_jobs=-1,verbose=2).fit(x_train,y_train)\n",
    "tree_search_model.best_params_"
   ]
  },
  {
   "cell_type": "code",
   "execution_count": 362,
   "id": "d1bb2e10",
   "metadata": {},
   "outputs": [
    {
     "data": {
      "text/plain": [
       "0.7786885245901639"
      ]
     },
     "execution_count": 362,
     "metadata": {},
     "output_type": "execute_result"
    }
   ],
   "source": [
    "tree_tuned = DecisionTreeClassifier(max_depth=7,min_samples_split=3).fit(x_train,y_train)\n",
    "y_pred = tree_tuned.predict(x_test)\n",
    "accuracy_score(y_test,y_pred)"
   ]
  },
  {
   "cell_type": "markdown",
   "id": "b1a993ea",
   "metadata": {},
   "source": [
    "### Random Forest Classifier"
   ]
  },
  {
   "cell_type": "code",
   "execution_count": 123,
   "id": "eeb53fae",
   "metadata": {},
   "outputs": [
    {
     "name": "stdout",
     "output_type": "stream",
     "text": [
      "Accuracy Score:  0.8852459016393442\n"
     ]
    }
   ],
   "source": [
    "rf = RandomForestClassifier(random_state=42)\n",
    "rf_model = rf.fit(x_train,y_train)\n",
    "y_pred = rf_model.predict(x_test)\n",
    "print(\"Accuracy Score: \",accuracy_score(y_test,y_pred))"
   ]
  },
  {
   "cell_type": "code",
   "execution_count": 120,
   "id": "48720c25",
   "metadata": {},
   "outputs": [
    {
     "name": "stdout",
     "output_type": "stream",
     "text": [
      "Fitting 10 folds for each of 108 candidates, totalling 1080 fits\n"
     ]
    },
    {
     "data": {
      "text/plain": [
       "{'max_depth': 8,\n",
       " 'max_features': 2,\n",
       " 'min_samples_split': 5,\n",
       " 'n_estimators': 500}"
      ]
     },
     "execution_count": 120,
     "metadata": {},
     "output_type": "execute_result"
    }
   ],
   "source": [
    "# Parameter tuning\n",
    "rf_params = {\n",
    "    'n_estimators':[10,500,100],\n",
    "    'min_samples_split':[2,5,10],\n",
    "    'max_depth':[2,5,8,10],\n",
    "    'max_features':[2,5,8]\n",
    "}\n",
    "\n",
    "rf_search_model = GridSearchCV(rf,rf_params,cv=10,n_jobs=-1,verbose=2).fit(x_train,y_train)\n",
    "rf_search_model.best_params_"
   ]
  },
  {
   "cell_type": "code",
   "execution_count": 137,
   "id": "996b190f",
   "metadata": {},
   "outputs": [
    {
     "data": {
      "text/plain": [
       "0.8852459016393442"
      ]
     },
     "execution_count": 137,
     "metadata": {},
     "output_type": "execute_result"
    }
   ],
   "source": [
    "\n",
    "rf_tuned = RandomForestClassifier(max_depth=8,max_features=2,min_samples_split=5,n_estimators=500).fit(x_train,y_train)\n",
    "y_pred = rf_tuned.predict(x_test)\n",
    "accuracy_score(y_pred,y_test)"
   ]
  },
  {
   "cell_type": "markdown",
   "id": "88b89b5a",
   "metadata": {},
   "source": [
    "### MLP Classifier   (ANN)"
   ]
  },
  {
   "cell_type": "code",
   "execution_count": 156,
   "id": "46e5dbf6",
   "metadata": {},
   "outputs": [
    {
     "data": {
      "text/plain": [
       "0.860655737704918"
      ]
     },
     "execution_count": 156,
     "metadata": {},
     "output_type": "execute_result"
    }
   ],
   "source": [
    "\n",
    "mlp = MLPClassifier(random_state=42).fit(x_train,y_train)\n",
    "mlp_model = mlp.fit(x_train,y_train)\n",
    "y_pred=mlp_model.predict(x_test)\n",
    "accuracy_score(y_pred,y_test)"
   ]
  },
  {
   "cell_type": "code",
   "execution_count": 182,
   "id": "0708d888",
   "metadata": {},
   "outputs": [
    {
     "name": "stdout",
     "output_type": "stream",
     "text": [
      "Fitting 10 folds for each of 108 candidates, totalling 1080 fits\n"
     ]
    },
    {
     "data": {
      "text/plain": [
       "{'activation': 'logistic',\n",
       " 'alpha': 0.01,\n",
       " 'hidden_layer_sizes': (100, 100),\n",
       " 'solver': 'lbfgs'}"
      ]
     },
     "execution_count": 182,
     "metadata": {},
     "output_type": "execute_result"
    }
   ],
   "source": [
    "# Paramter tuning\n",
    "mlp_params = {\n",
    "    'hidden_layer_sizes':[(10,10,10),(100,100,100),(100,100)],\n",
    "    'activation':['relu','logistic'],\n",
    "    'solver':['lbfgs','adam','sgd'],\n",
    "    'alpha':[0.1,0.01,0.02,0.005,0.0001,0.00001],\n",
    "}\n",
    "\n",
    "mlp_search_model = GridSearchCV(mlp,mlp_params,cv=10,n_jobs=-1,verbose=2).fit(x_train,y_train)\n",
    "mlp_search_model.best_params_"
   ]
  },
  {
   "cell_type": "code",
   "execution_count": 373,
   "id": "cae2657e",
   "metadata": {},
   "outputs": [
    {
     "data": {
      "text/plain": [
       "0.8114754098360656"
      ]
     },
     "execution_count": 373,
     "metadata": {},
     "output_type": "execute_result"
    }
   ],
   "source": [
    "mlp_tuned = MLPClassifier(activation='logistic',alpha=0.01,\n",
    "                          hidden_layer_sizes=(100,100),solver='lbfgs',random_state=42).fit(x_train,y_train)\n",
    "y_pred = mlp_tuned.predict(x_test)\n",
    "accuracy_score(y_pred,y_test)"
   ]
  },
  {
   "cell_type": "markdown",
   "id": "5bdc58c9",
   "metadata": {},
   "source": [
    "### Gradient Boosting Classifer"
   ]
  },
  {
   "cell_type": "code",
   "execution_count": 161,
   "id": "91822605",
   "metadata": {},
   "outputs": [
    {
     "data": {
      "text/plain": [
       "0.860655737704918"
      ]
     },
     "execution_count": 161,
     "metadata": {},
     "output_type": "execute_result"
    }
   ],
   "source": [
    "gb = GradientBoostingClassifier()\n",
    "gb_model = gb.fit(x_train,y_train)\n",
    "y_pred = gb_model.predict(x_test)\n",
    "accuracy_score(y_pred,y_test)"
   ]
  },
  {
   "cell_type": "code",
   "execution_count": 184,
   "id": "b986070d",
   "metadata": {},
   "outputs": [
    {
     "name": "stdout",
     "output_type": "stream",
     "text": [
      "Fitting 10 folds for each of 100 candidates, totalling 1000 fits\n"
     ]
    },
    {
     "data": {
      "text/plain": [
       "{'learning_rate': 0.1, 'max_depth': 5, 'n_estimators': 1000}"
      ]
     },
     "execution_count": 184,
     "metadata": {},
     "output_type": "execute_result"
    }
   ],
   "source": [
    "#Parameter Tuning\n",
    "gb_params={\n",
    "    'learning_rate':[0.01,0.1,1,2],\n",
    "    'max_depth':[1,3,5,7,9],\n",
    "    'n_estimators':[5,50,250,500,1000]\n",
    "}\n",
    "\n",
    "gb_search_model = GridSearchCV(gb,gb_params,cv=10,n_jobs=-1,verbose=2).fit(x_train,y_train)\n",
    "gb_search_model.best_params_"
   ]
  },
  {
   "cell_type": "code",
   "execution_count": 187,
   "id": "0c900063",
   "metadata": {},
   "outputs": [
    {
     "data": {
      "text/plain": [
       "0.8688524590163934"
      ]
     },
     "execution_count": 187,
     "metadata": {},
     "output_type": "execute_result"
    }
   ],
   "source": [
    "gb_tuned = GradientBoostingClassifier(learning_rate=0.1,max_depth=5,n_estimators=1000).fit(x_train,y_train)\n",
    "y_pred = gb_tuned.predict(x_test)\n",
    "accuracy_score(y_pred,y_test)"
   ]
  },
  {
   "cell_type": "markdown",
   "id": "3236fe59",
   "metadata": {},
   "source": [
    "###  Support Vector Machine (SVM)"
   ]
  },
  {
   "cell_type": "code",
   "execution_count": 267,
   "id": "08580cd1",
   "metadata": {},
   "outputs": [
    {
     "data": {
      "text/plain": [
       "0.8114754098360656"
      ]
     },
     "execution_count": 267,
     "metadata": {},
     "output_type": "execute_result"
    }
   ],
   "source": [
    "svm = SVC(random_state=42)\n",
    "svm_model = svm.fit(x_train,y_train)\n",
    "y_pred = svm_model.predict(x_test)\n",
    "accuracy_score(y_pred,y_test)"
   ]
  },
  {
   "cell_type": "code",
   "execution_count": 271,
   "id": "8c0b0620",
   "metadata": {},
   "outputs": [
    {
     "name": "stdout",
     "output_type": "stream",
     "text": [
      "Fitting 10 folds for each of 21 candidates, totalling 210 fits\n"
     ]
    },
    {
     "data": {
      "text/plain": [
       "{'C': 200, 'gamma': 0.01, 'kernel': 'rbf'}"
      ]
     },
     "execution_count": 271,
     "metadata": {},
     "output_type": "execute_result"
    }
   ],
   "source": [
    "# Paramter tuning\n",
    "\n",
    "svm_params = {\n",
    "    'C':[1,10,50,100,200,300,1000],\n",
    "    'kernel':[\"rbf\"],\n",
    "    'gamma':[0.001,0.01,1]\n",
    "}\n",
    "\n",
    "svm_tuned_model = GridSearchCV(svm,svm_params,cv=10,n_jobs=-1,verbose=2).fit(x_train,y_train)\n",
    "svm_tuned_model.best_params_"
   ]
  },
  {
   "cell_type": "code",
   "execution_count": 272,
   "id": "b38c3b46",
   "metadata": {},
   "outputs": [
    {
     "data": {
      "text/plain": [
       "0.7950819672131147"
      ]
     },
     "execution_count": 272,
     "metadata": {},
     "output_type": "execute_result"
    }
   ],
   "source": [
    "svm_tuned = SVC(C=200,gamma=0.01,kernel='rbf').fit(x_train,y_train)\n",
    "y_pred = svm_tuned.predict(x_test)\n",
    "accuracy_score(y_pred,y_test)"
   ]
  },
  {
   "cell_type": "markdown",
   "id": "9bc7e304",
   "metadata": {},
   "source": [
    "### Gaussian Naive Bayes"
   ]
  },
  {
   "cell_type": "code",
   "execution_count": 305,
   "id": "a72c17f4",
   "metadata": {},
   "outputs": [
    {
     "data": {
      "text/plain": [
       "array([1, 0, 1, 0, 1, 1, 1, 1, 1, 1], dtype=int64)"
      ]
     },
     "execution_count": 305,
     "metadata": {},
     "output_type": "execute_result"
    }
   ],
   "source": [
    "nb = GaussianNB()\n",
    "nb_model = nb.fit(x_train,y_train)\n",
    "nb_model.predict(x_test)[0:10]\n",
    "# y_pred = nb_model.predict(x_test)\n",
    "# accuracy_score(x_train,y_train)"
   ]
  },
  {
   "cell_type": "code",
   "execution_count": 306,
   "id": "ee3badfd",
   "metadata": {},
   "outputs": [
    {
     "data": {
      "text/plain": [
       "array([[0.07507459, 0.92492541],\n",
       "       [0.98587276, 0.01412724],\n",
       "       [0.23826152, 0.76173848],\n",
       "       [0.79512938, 0.20487062],\n",
       "       [0.01642732, 0.98357268],\n",
       "       [0.49441102, 0.50558898],\n",
       "       [0.00109159, 0.99890841],\n",
       "       [0.41029895, 0.58970105],\n",
       "       [0.03733628, 0.96266372],\n",
       "       [0.0216331 , 0.9783669 ]])"
      ]
     },
     "execution_count": 306,
     "metadata": {},
     "output_type": "execute_result"
    }
   ],
   "source": [
    "nb_model.predict_proba(x_test)[0:10]"
   ]
  },
  {
   "cell_type": "code",
   "execution_count": 308,
   "id": "578efbf0",
   "metadata": {},
   "outputs": [
    {
     "data": {
      "text/plain": [
       "0.7950819672131147"
      ]
     },
     "execution_count": 308,
     "metadata": {},
     "output_type": "execute_result"
    }
   ],
   "source": [
    "y_pred = nb_model.predict(x_test)\n",
    "accuracy_score(y_test,y_pred)"
   ]
  },
  {
   "cell_type": "code",
   "execution_count": 325,
   "id": "3164c3b5",
   "metadata": {},
   "outputs": [
    {
     "name": "stdout",
     "output_type": "stream",
     "text": [
      "Fitting 10 folds for each of 100 candidates, totalling 1000 fits\n"
     ]
    },
    {
     "data": {
      "text/plain": [
       "{'var_smoothing': 0.3511191734215131}"
      ]
     },
     "execution_count": 325,
     "metadata": {},
     "output_type": "execute_result"
    }
   ],
   "source": [
    "# Parameter Tuning\n",
    "\n",
    "nb_params = {\n",
    "    'var_smoothing':np.logspace(0,-9,num=100)\n",
    "}\n",
    "\n",
    "nb_search_model = GridSearchCV(estimator = nb, param_grid=nb_params,cv=10,verbose=1,scoring='accuracy').fit(x_train,y_train)\n",
    "nb_search_model.best_params_"
   ]
  },
  {
   "cell_type": "code",
   "execution_count": 323,
   "id": "21827139",
   "metadata": {},
   "outputs": [
    {
     "data": {
      "text/plain": [
       "0.8278688524590164"
      ]
     },
     "execution_count": 323,
     "metadata": {},
     "output_type": "execute_result"
    }
   ],
   "source": [
    "nb_tuned = GaussianNB(var_smoothing=1).fit(x_train,y_train)\n",
    "y_pred = nb_tuned.predict(x_test)\n",
    "accuracy_score(y_pred,y_test)"
   ]
  },
  {
   "cell_type": "markdown",
   "id": "96900250",
   "metadata": {},
   "source": [
    "### K Nearest Neighbors (KNN)"
   ]
  },
  {
   "cell_type": "code",
   "execution_count": 297,
   "id": "fe18a853",
   "metadata": {},
   "outputs": [
    {
     "data": {
      "text/plain": [
       "0.7131147540983607"
      ]
     },
     "execution_count": 297,
     "metadata": {},
     "output_type": "execute_result"
    }
   ],
   "source": [
    "knn = KNeighborsClassifier()\n",
    "knn_model = knn.fit(x_train,y_train)\n",
    "y_pred = knn_model.predict(x_test)\n",
    "accuracy_score(y_pred,y_test)"
   ]
  },
  {
   "cell_type": "code",
   "execution_count": 298,
   "id": "1e772c6f",
   "metadata": {},
   "outputs": [
    {
     "name": "stdout",
     "output_type": "stream",
     "text": [
      "              precision    recall  f1-score   support\n",
      "\n",
      "           0       0.75      0.70      0.72        66\n",
      "           1       0.67      0.73      0.70        56\n",
      "\n",
      "    accuracy                           0.71       122\n",
      "   macro avg       0.71      0.71      0.71       122\n",
      "weighted avg       0.72      0.71      0.71       122\n",
      "\n"
     ]
    }
   ],
   "source": [
    "print(classification_report(y_test,y_pred))"
   ]
  },
  {
   "cell_type": "code",
   "execution_count": 348,
   "id": "9dc99d19",
   "metadata": {},
   "outputs": [
    {
     "data": {
      "text/plain": [
       "{'n_neighbors': 11}"
      ]
     },
     "execution_count": 348,
     "metadata": {},
     "output_type": "execute_result"
    }
   ],
   "source": [
    "knn_params = {\n",
    "    'n_neighbors':np.arange(1,50)\n",
    "}\n",
    "knn_search_model = GridSearchCV(knn,knn_params,cv=10).fit(x_train,y_train)\n",
    "knn_search_model.best_params_"
   ]
  },
  {
   "cell_type": "code",
   "execution_count": 346,
   "id": "3f8b53af",
   "metadata": {},
   "outputs": [
    {
     "data": {
      "text/plain": [
       "0.7377049180327869"
      ]
     },
     "execution_count": 346,
     "metadata": {},
     "output_type": "execute_result"
    }
   ],
   "source": [
    "knn_tuned = KNeighborsClassifier(n_neighbors=11).fit(x_train,y_train)\n",
    "y_pred = knn_tuned.predict(x_test)\n",
    "accuracy_score(y_pred,y_test)"
   ]
  },
  {
   "cell_type": "code",
   "execution_count": 376,
   "id": "833cdba3",
   "metadata": {},
   "outputs": [],
   "source": [
    "models = [\n",
    "    lr_tuned,tree_tuned,rf_tuned,mlp_model,gb_tuned,svm_model,\n",
    "    nb_tuned,knn_tuned\n",
    "]\n",
    "\n",
    "results=[]\n",
    "results = pd.DataFrame(columns=['Model','Accuracy_Score'])\n",
    "for model in models:\n",
    "    names=model.__class__.__name__\n",
    "    y_pred = model.predict(x_test)\n",
    "    accuracyScore = accuracy_score(y_test,y_pred)\n",
    "    result = pd.DataFrame([[names,accuracyScore*100]],columns=['Model','Accuracy_Score'])\n",
    "    results = results.append(result)\n",
    "\n",
    "results = results.sort_values('Accuracy_Score').reset_index()\n"
   ]
  },
  {
   "cell_type": "code",
   "execution_count": 377,
   "id": "f92e60d2",
   "metadata": {},
   "outputs": [
    {
     "data": {
      "text/html": [
       "<div>\n",
       "<style scoped>\n",
       "    .dataframe tbody tr th:only-of-type {\n",
       "        vertical-align: middle;\n",
       "    }\n",
       "\n",
       "    .dataframe tbody tr th {\n",
       "        vertical-align: top;\n",
       "    }\n",
       "\n",
       "    .dataframe thead th {\n",
       "        text-align: right;\n",
       "    }\n",
       "</style>\n",
       "<table border=\"1\" class=\"dataframe\">\n",
       "  <thead>\n",
       "    <tr style=\"text-align: right;\">\n",
       "      <th></th>\n",
       "      <th>index</th>\n",
       "      <th>Model</th>\n",
       "      <th>Accuracy_Score</th>\n",
       "    </tr>\n",
       "  </thead>\n",
       "  <tbody>\n",
       "    <tr>\n",
       "      <th>0</th>\n",
       "      <td>0</td>\n",
       "      <td>KNeighborsClassifier</td>\n",
       "      <td>73.770492</td>\n",
       "    </tr>\n",
       "    <tr>\n",
       "      <th>1</th>\n",
       "      <td>0</td>\n",
       "      <td>DecisionTreeClassifier</td>\n",
       "      <td>77.868852</td>\n",
       "    </tr>\n",
       "    <tr>\n",
       "      <th>2</th>\n",
       "      <td>0</td>\n",
       "      <td>LogisticRegression</td>\n",
       "      <td>81.147541</td>\n",
       "    </tr>\n",
       "    <tr>\n",
       "      <th>3</th>\n",
       "      <td>0</td>\n",
       "      <td>SVC</td>\n",
       "      <td>81.147541</td>\n",
       "    </tr>\n",
       "    <tr>\n",
       "      <th>4</th>\n",
       "      <td>0</td>\n",
       "      <td>GaussianNB</td>\n",
       "      <td>82.786885</td>\n",
       "    </tr>\n",
       "    <tr>\n",
       "      <th>5</th>\n",
       "      <td>0</td>\n",
       "      <td>MLPClassifier</td>\n",
       "      <td>86.065574</td>\n",
       "    </tr>\n",
       "    <tr>\n",
       "      <th>6</th>\n",
       "      <td>0</td>\n",
       "      <td>GradientBoostingClassifier</td>\n",
       "      <td>86.885246</td>\n",
       "    </tr>\n",
       "    <tr>\n",
       "      <th>7</th>\n",
       "      <td>0</td>\n",
       "      <td>RandomForestClassifier</td>\n",
       "      <td>87.704918</td>\n",
       "    </tr>\n",
       "  </tbody>\n",
       "</table>\n",
       "</div>"
      ],
      "text/plain": [
       "   index                       Model  Accuracy_Score\n",
       "0      0        KNeighborsClassifier       73.770492\n",
       "1      0      DecisionTreeClassifier       77.868852\n",
       "2      0          LogisticRegression       81.147541\n",
       "3      0                         SVC       81.147541\n",
       "4      0                  GaussianNB       82.786885\n",
       "5      0               MLPClassifier       86.065574\n",
       "6      0  GradientBoostingClassifier       86.885246\n",
       "7      0      RandomForestClassifier       87.704918"
      ]
     },
     "execution_count": 377,
     "metadata": {},
     "output_type": "execute_result"
    }
   ],
   "source": [
    "results"
   ]
  }
 ],
 "metadata": {
  "kernelspec": {
   "display_name": "Python 3",
   "language": "python",
   "name": "python3"
  },
  "language_info": {
   "codemirror_mode": {
    "name": "ipython",
    "version": 3
   },
   "file_extension": ".py",
   "mimetype": "text/x-python",
   "name": "python",
   "nbconvert_exporter": "python",
   "pygments_lexer": "ipython3",
   "version": "3.8.8"
  }
 },
 "nbformat": 4,
 "nbformat_minor": 5
}
